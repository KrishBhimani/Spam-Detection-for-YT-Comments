{
 "cells": [
  {
   "cell_type": "markdown",
   "metadata": {
    "id": "ADLZU3RytiNj"
   },
   "source": [
    "# YouTube Comments Spam Classifier"
   ]
  },
  {
   "cell_type": "markdown",
   "metadata": {
    "id": "HSFASKweltxZ"
   },
   "source": [
    "### Import modules"
   ]
  },
  {
   "cell_type": "code",
   "execution_count": 1,
   "metadata": {
    "executionInfo": {
     "elapsed": 184,
     "status": "ok",
     "timestamp": 1622345997391,
     "user": {
      "displayName": "Jackson Yuan",
      "photoUrl": "https://lh3.googleusercontent.com/a-/AOh14GiVm5Kz4fSUpSoPk7z5hxi2MLDESFk9rMO9sGiJ=s64",
      "userId": "16093033917432874285"
     },
     "user_tz": 420
    },
    "id": "fA6OtyOu1399"
   },
   "outputs": [
    {
     "name": "stderr",
     "output_type": "stream",
     "text": [
      "C:\\Users\\sigma\\anaconda3\\Lib\\site-packages\\pandas\\core\\arrays\\masked.py:60: UserWarning: Pandas requires version '1.3.6' or newer of 'bottleneck' (version '1.3.5' currently installed).\n",
      "  from pandas.core import (\n"
     ]
    }
   ],
   "source": [
    "import pandas as pd\n",
    "import zipfile\n",
    "import pickle\n",
    "\n",
    "from sklearn.model_selection import train_test_split\n",
    "from sklearn.feature_extraction.text import TfidfVectorizer\n",
    "\n",
    "from sklearn.naive_bayes import MultinomialNB\n",
    "\n",
    "from sklearn.metrics import confusion_matrix, classification_report"
   ]
  },
  {
   "cell_type": "code",
   "execution_count": 4,
   "metadata": {
    "executionInfo": {
     "elapsed": 27,
     "status": "ok",
     "timestamp": 1622345997592,
     "user": {
      "displayName": "Jackson Yuan",
      "photoUrl": "https://lh3.googleusercontent.com/a-/AOh14GiVm5Kz4fSUpSoPk7z5hxi2MLDESFk9rMO9sGiJ=s64",
      "userId": "16093033917432874285"
     },
     "user_tz": 420
    },
    "id": "j60iP9vJ4Gal"
   },
   "outputs": [],
   "source": [
    "Psy = pd.read_csv(\"Youtube01-Psy.csv\")\n",
    "Katy = pd.read_csv(\"Youtube02-KatyPerry.csv\")\n",
    "LMFAO = pd.read_csv(\"Youtube03-LMFAO.csv\")\n",
    "Eminem = pd.read_csv(\"Youtube04-Eminem.csv\")\n",
    "Shakira = pd.read_csv(\"Youtube05-Shakira.csv\")"
   ]
  },
  {
   "cell_type": "code",
   "execution_count": 5,
   "metadata": {
    "colab": {
     "base_uri": "https://localhost:8080/"
    },
    "executionInfo": {
     "elapsed": 168,
     "status": "ok",
     "timestamp": 1622349925257,
     "user": {
      "displayName": "Jackson Yuan",
      "photoUrl": "https://lh3.googleusercontent.com/a-/AOh14GiVm5Kz4fSUpSoPk7z5hxi2MLDESFk9rMO9sGiJ=s64",
      "userId": "16093033917432874285"
     },
     "user_tz": 420
    },
    "id": "ycjgZtGc5yQw",
    "outputId": "688be4df-ce55-47d4-eac0-5a25be7f9cdd"
   },
   "outputs": [
    {
     "name": "stdout",
     "output_type": "stream",
     "text": [
      "<class 'pandas.core.frame.DataFrame'>\n",
      "Index: 1956 entries, 0 to 369\n",
      "Data columns (total 2 columns):\n",
      " #   Column   Non-Null Count  Dtype \n",
      "---  ------   --------------  ----- \n",
      " 0   CONTENT  1956 non-null   object\n",
      " 1   CLASS    1956 non-null   int64 \n",
      "dtypes: int64(1), object(1)\n",
      "memory usage: 45.8+ KB\n"
     ]
    }
   ],
   "source": [
    "data = pd.concat([Psy, Katy, LMFAO, Eminem, Shakira])\n",
    "data.drop([\"COMMENT_ID\", \"DATE\", \"AUTHOR\"], axis=1, inplace=True)\n",
    "data.info()"
   ]
  },
  {
   "cell_type": "code",
   "execution_count": 6,
   "metadata": {
    "executionInfo": {
     "elapsed": 25,
     "status": "ok",
     "timestamp": 1622345997594,
     "user": {
      "displayName": "Jackson Yuan",
      "photoUrl": "https://lh3.googleusercontent.com/a-/AOh14GiVm5Kz4fSUpSoPk7z5hxi2MLDESFk9rMO9sGiJ=s64",
      "userId": "16093033917432874285"
     },
     "user_tz": 420
    },
    "id": "oHeUh_dhOtwa"
   },
   "outputs": [],
   "source": [
    "X_train, X_test, y_train, y_test = train_test_split(data[\"CONTENT\"], data[\"CLASS\"])"
   ]
  },
  {
   "cell_type": "code",
   "execution_count": 7,
   "metadata": {
    "colab": {
     "base_uri": "https://localhost:8080/"
    },
    "executionInfo": {
     "elapsed": 25,
     "status": "ok",
     "timestamp": 1622345997595,
     "user": {
      "displayName": "Jackson Yuan",
      "photoUrl": "https://lh3.googleusercontent.com/a-/AOh14GiVm5Kz4fSUpSoPk7z5hxi2MLDESFk9rMO9sGiJ=s64",
      "userId": "16093033917432874285"
     },
     "user_tz": 420
    },
    "id": "zl3FinqtTExx",
    "outputId": "98cc6cf8-c3c9-425d-9c12-6af25411abf8"
   },
   "outputs": [
    {
     "data": {
      "text/plain": [
       "(1467, 3607)"
      ]
     },
     "execution_count": 7,
     "metadata": {},
     "output_type": "execute_result"
    }
   ],
   "source": [
    "tfidf_vect = TfidfVectorizer(use_idf=True, lowercase=True)\n",
    "X_train_tfidf = tfidf_vect.fit_transform(X_train)\n",
    "X_train_tfidf.shape"
   ]
  },
  {
   "cell_type": "code",
   "execution_count": 8,
   "metadata": {
    "colab": {
     "base_uri": "https://localhost:8080/"
    },
    "executionInfo": {
     "elapsed": 24,
     "status": "ok",
     "timestamp": 1622345997597,
     "user": {
      "displayName": "Jackson Yuan",
      "photoUrl": "https://lh3.googleusercontent.com/a-/AOh14GiVm5Kz4fSUpSoPk7z5hxi2MLDESFk9rMO9sGiJ=s64",
      "userId": "16093033917432874285"
     },
     "user_tz": 420
    },
    "id": "zD1sn67WUXpF",
    "outputId": "28dcc407-3cbd-40d8-96a7-1d94277a5f19"
   },
   "outputs": [
    {
     "data": {
      "text/html": [
       "<style>#sk-container-id-1 {color: black;}#sk-container-id-1 pre{padding: 0;}#sk-container-id-1 div.sk-toggleable {background-color: white;}#sk-container-id-1 label.sk-toggleable__label {cursor: pointer;display: block;width: 100%;margin-bottom: 0;padding: 0.3em;box-sizing: border-box;text-align: center;}#sk-container-id-1 label.sk-toggleable__label-arrow:before {content: \"▸\";float: left;margin-right: 0.25em;color: #696969;}#sk-container-id-1 label.sk-toggleable__label-arrow:hover:before {color: black;}#sk-container-id-1 div.sk-estimator:hover label.sk-toggleable__label-arrow:before {color: black;}#sk-container-id-1 div.sk-toggleable__content {max-height: 0;max-width: 0;overflow: hidden;text-align: left;background-color: #f0f8ff;}#sk-container-id-1 div.sk-toggleable__content pre {margin: 0.2em;color: black;border-radius: 0.25em;background-color: #f0f8ff;}#sk-container-id-1 input.sk-toggleable__control:checked~div.sk-toggleable__content {max-height: 200px;max-width: 100%;overflow: auto;}#sk-container-id-1 input.sk-toggleable__control:checked~label.sk-toggleable__label-arrow:before {content: \"▾\";}#sk-container-id-1 div.sk-estimator input.sk-toggleable__control:checked~label.sk-toggleable__label {background-color: #d4ebff;}#sk-container-id-1 div.sk-label input.sk-toggleable__control:checked~label.sk-toggleable__label {background-color: #d4ebff;}#sk-container-id-1 input.sk-hidden--visually {border: 0;clip: rect(1px 1px 1px 1px);clip: rect(1px, 1px, 1px, 1px);height: 1px;margin: -1px;overflow: hidden;padding: 0;position: absolute;width: 1px;}#sk-container-id-1 div.sk-estimator {font-family: monospace;background-color: #f0f8ff;border: 1px dotted black;border-radius: 0.25em;box-sizing: border-box;margin-bottom: 0.5em;}#sk-container-id-1 div.sk-estimator:hover {background-color: #d4ebff;}#sk-container-id-1 div.sk-parallel-item::after {content: \"\";width: 100%;border-bottom: 1px solid gray;flex-grow: 1;}#sk-container-id-1 div.sk-label:hover label.sk-toggleable__label {background-color: #d4ebff;}#sk-container-id-1 div.sk-serial::before {content: \"\";position: absolute;border-left: 1px solid gray;box-sizing: border-box;top: 0;bottom: 0;left: 50%;z-index: 0;}#sk-container-id-1 div.sk-serial {display: flex;flex-direction: column;align-items: center;background-color: white;padding-right: 0.2em;padding-left: 0.2em;position: relative;}#sk-container-id-1 div.sk-item {position: relative;z-index: 1;}#sk-container-id-1 div.sk-parallel {display: flex;align-items: stretch;justify-content: center;background-color: white;position: relative;}#sk-container-id-1 div.sk-item::before, #sk-container-id-1 div.sk-parallel-item::before {content: \"\";position: absolute;border-left: 1px solid gray;box-sizing: border-box;top: 0;bottom: 0;left: 50%;z-index: -1;}#sk-container-id-1 div.sk-parallel-item {display: flex;flex-direction: column;z-index: 1;position: relative;background-color: white;}#sk-container-id-1 div.sk-parallel-item:first-child::after {align-self: flex-end;width: 50%;}#sk-container-id-1 div.sk-parallel-item:last-child::after {align-self: flex-start;width: 50%;}#sk-container-id-1 div.sk-parallel-item:only-child::after {width: 0;}#sk-container-id-1 div.sk-dashed-wrapped {border: 1px dashed gray;margin: 0 0.4em 0.5em 0.4em;box-sizing: border-box;padding-bottom: 0.4em;background-color: white;}#sk-container-id-1 div.sk-label label {font-family: monospace;font-weight: bold;display: inline-block;line-height: 1.2em;}#sk-container-id-1 div.sk-label-container {text-align: center;}#sk-container-id-1 div.sk-container {/* jupyter's `normalize.less` sets `[hidden] { display: none; }` but bootstrap.min.css set `[hidden] { display: none !important; }` so we also need the `!important` here to be able to override the default hidden behavior on the sphinx rendered scikit-learn.org. See: https://github.com/scikit-learn/scikit-learn/issues/21755 */display: inline-block !important;position: relative;}#sk-container-id-1 div.sk-text-repr-fallback {display: none;}</style><div id=\"sk-container-id-1\" class=\"sk-top-container\"><div class=\"sk-text-repr-fallback\"><pre>MultinomialNB()</pre><b>In a Jupyter environment, please rerun this cell to show the HTML representation or trust the notebook. <br />On GitHub, the HTML representation is unable to render, please try loading this page with nbviewer.org.</b></div><div class=\"sk-container\" hidden><div class=\"sk-item\"><div class=\"sk-estimator sk-toggleable\"><input class=\"sk-toggleable__control sk-hidden--visually\" id=\"sk-estimator-id-1\" type=\"checkbox\" checked><label for=\"sk-estimator-id-1\" class=\"sk-toggleable__label sk-toggleable__label-arrow\">MultinomialNB</label><div class=\"sk-toggleable__content\"><pre>MultinomialNB()</pre></div></div></div></div></div>"
      ],
      "text/plain": [
       "MultinomialNB()"
      ]
     },
     "execution_count": 8,
     "metadata": {},
     "output_type": "execute_result"
    }
   ],
   "source": [
    "model = MultinomialNB()\n",
    "model.fit(X_train_tfidf, y_train)"
   ]
  },
  {
   "cell_type": "code",
   "execution_count": 9,
   "metadata": {
    "executionInfo": {
     "elapsed": 134,
     "status": "ok",
     "timestamp": 1622346067091,
     "user": {
      "displayName": "Jackson Yuan",
      "photoUrl": "https://lh3.googleusercontent.com/a-/AOh14GiVm5Kz4fSUpSoPk7z5hxi2MLDESFk9rMO9sGiJ=s64",
      "userId": "16093033917432874285"
     },
     "user_tz": 420
    },
    "id": "kpiWmCrrUkwv"
   },
   "outputs": [],
   "source": [
    "X_test_tfidf = tfidf_vect.transform(X_test)\n",
    "predictions = model.predict(X_test_tfidf)"
   ]
  },
  {
   "cell_type": "code",
   "execution_count": 10,
   "metadata": {
    "colab": {
     "base_uri": "https://localhost:8080/"
    },
    "executionInfo": {
     "elapsed": 135,
     "status": "ok",
     "timestamp": 1622346087598,
     "user": {
      "displayName": "Jackson Yuan",
      "photoUrl": "https://lh3.googleusercontent.com/a-/AOh14GiVm5Kz4fSUpSoPk7z5hxi2MLDESFk9rMO9sGiJ=s64",
      "userId": "16093033917432874285"
     },
     "user_tz": 420
    },
    "id": "jetTqxKZWmB-",
    "outputId": "e4170412-5858-4ceb-a3ed-441317c63384"
   },
   "outputs": [
    {
     "data": {
      "text/plain": [
       "array([[212,  28],\n",
       "       [ 11, 238]], dtype=int64)"
      ]
     },
     "execution_count": 10,
     "metadata": {},
     "output_type": "execute_result"
    }
   ],
   "source": [
    "confusion_matrix(y_test, predictions)"
   ]
  },
  {
   "cell_type": "code",
   "execution_count": 11,
   "metadata": {
    "colab": {
     "base_uri": "https://localhost:8080/"
    },
    "executionInfo": {
     "elapsed": 167,
     "status": "ok",
     "timestamp": 1622346111624,
     "user": {
      "displayName": "Jackson Yuan",
      "photoUrl": "https://lh3.googleusercontent.com/a-/AOh14GiVm5Kz4fSUpSoPk7z5hxi2MLDESFk9rMO9sGiJ=s64",
      "userId": "16093033917432874285"
     },
     "user_tz": 420
    },
    "id": "mm1a0rwEXLrP",
    "outputId": "7f7cbc22-b93b-4cae-e512-04b95afaf3fc"
   },
   "outputs": [
    {
     "name": "stdout",
     "output_type": "stream",
     "text": [
      "              precision    recall  f1-score   support\n",
      "\n",
      "           0       0.95      0.88      0.92       240\n",
      "           1       0.89      0.96      0.92       249\n",
      "\n",
      "    accuracy                           0.92       489\n",
      "   macro avg       0.92      0.92      0.92       489\n",
      "weighted avg       0.92      0.92      0.92       489\n",
      "\n"
     ]
    }
   ],
   "source": [
    "print(classification_report(y_test, predictions))"
   ]
  },
  {
   "cell_type": "code",
   "execution_count": 12,
   "metadata": {
    "colab": {
     "base_uri": "https://localhost:8080/"
    },
    "executionInfo": {
     "elapsed": 277,
     "status": "ok",
     "timestamp": 1622346150541,
     "user": {
      "displayName": "Jackson Yuan",
      "photoUrl": "https://lh3.googleusercontent.com/a-/AOh14GiVm5Kz4fSUpSoPk7z5hxi2MLDESFk9rMO9sGiJ=s64",
      "userId": "16093033917432874285"
     },
     "user_tz": 420
    },
    "id": "O521kNxSXRi5",
    "outputId": "d6fc60fd-55d0-41dd-b05f-7835ca8ae380"
   },
   "outputs": [
    {
     "data": {
      "text/plain": [
       "0.9202453987730062"
      ]
     },
     "execution_count": 12,
     "metadata": {},
     "output_type": "execute_result"
    }
   ],
   "source": [
    "model.score(X_test_tfidf, y_test)"
   ]
  },
  {
   "cell_type": "markdown",
   "metadata": {
    "id": "jiGsvdJfmRgY"
   },
   "source": [
    "### Exporting the model and TF-IDF vectorizer"
   ]
  },
  {
   "cell_type": "code",
   "execution_count": 38,
   "metadata": {
    "executionInfo": {
     "elapsed": 154,
     "status": "ok",
     "timestamp": 1622346532989,
     "user": {
      "displayName": "Jackson Yuan",
      "photoUrl": "https://lh3.googleusercontent.com/a-/AOh14GiVm5Kz4fSUpSoPk7z5hxi2MLDESFk9rMO9sGiJ=s64",
      "userId": "16093033917432874285"
     },
     "user_tz": 420
    },
    "id": "2LS10DbNXbBM"
   },
   "outputs": [],
   "source": [
    "with open(\"model.pkl\", \"wb\") as model_file:\n",
    "  pickle.dump(model, model_file)\n",
    "\n",
    "with open(\"tfidf-vect.pkl\", \"wb\") as tfidf_vect_file:\n",
    "  pickle.dump(tfidf_vect, tfidf_vect_file)"
   ]
  },
  {
   "cell_type": "code",
   "execution_count": null,
   "metadata": {},
   "outputs": [],
   "source": []
  },
  {
   "cell_type": "code",
   "execution_count": null,
   "metadata": {},
   "outputs": [],
   "source": []
  }
 ],
 "metadata": {
  "colab": {
   "authorship_tag": "ABX9TyP45u4wdp5wkTnk7isDXbRq",
   "collapsed_sections": [],
   "name": "youtube-comments-spam-classifier.ipynb",
   "provenance": []
  },
  "kernelspec": {
   "display_name": "Python 3 (ipykernel)",
   "language": "python",
   "name": "python3"
  },
  "language_info": {
   "codemirror_mode": {
    "name": "ipython",
    "version": 3
   },
   "file_extension": ".py",
   "mimetype": "text/x-python",
   "name": "python",
   "nbconvert_exporter": "python",
   "pygments_lexer": "ipython3",
   "version": "3.11.4"
  }
 },
 "nbformat": 4,
 "nbformat_minor": 1
}
